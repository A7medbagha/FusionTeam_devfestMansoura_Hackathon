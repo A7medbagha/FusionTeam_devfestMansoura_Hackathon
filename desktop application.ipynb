{
 "cells": [
  {
   "cell_type": "markdown",
   "id": "0e341cc7",
   "metadata": {},
   "source": [
    "# Login page"
   ]
  },
  {
   "cell_type": "code",
   "execution_count": 1,
   "id": "3cd9c378",
   "metadata": {},
   "outputs": [],
   "source": [
    "import tkinter as tk\n",
    "from PIL import Image, ImageTk \n",
    "\n",
    "login_window = tk.Tk()\n",
    "login_window.title(\"Tkinter with Background Image\")\n",
    "\n",
    "background_image = Image.open(r\"C:\\Users\\Shady Emad\\Desktop\\Hackathon\\Login Page Wireframe Mobile UI Prototype.png\") \n",
    "background_photo = ImageTk.PhotoImage(background_image)\n",
    "\n",
    "canvas = tk.Canvas(login_window, width=background_image.width, height=background_image.height)\n",
    "canvas.pack()\n",
    "canvas.create_image(0, 0, anchor=tk.NW, image=background_photo)\n",
    "\n",
    "name_field = tk.Entry(login_window, bg=\"#8f8e8e\", width=41)\n",
    "name_field.place(x=80, y=545)\n",
    "\n",
    "\n",
    "password_field = tk.Entry(login_window, bg=\"#8f8e8e\", width=41)\n",
    "password_field.place(x=80, y=630)\n",
    "\n",
    "button_font = (\"Helvetica\", 15)    \n",
    "button = tk.Button(login_window, text=\"Log in\", bg='black',fg=\"white\", font=button_font)\n",
    "button.place(x=162, y=690)\n",
    "\n",
    "\n",
    "login_window.mainloop()\n"
   ]
  },
  {
   "cell_type": "markdown",
   "id": "2ef4c20b",
   "metadata": {},
   "source": [
    "# Admin page"
   ]
  },
  {
   "cell_type": "code",
   "execution_count": 10,
   "id": "f8c16235",
   "metadata": {},
   "outputs": [],
   "source": [
    "import tkinter as tk\n",
    "from PIL import Image, ImageTk \n",
    "\n",
    "admin_window = tk.Tk()\n",
    "admin_window.title(\"admin window\")\n",
    "\n",
    "background_image = Image.open(r\"C:\\Users\\Shady Emad\\Desktop\\Hackathon\\admin.png\")  # Replace with your image file\n",
    "background_photo = ImageTk.PhotoImage(background_image)\n",
    "\n",
    "canvas = tk.Canvas(admin_window, width=background_image.width, height=background_image.height)\n",
    "canvas.pack()\n",
    "canvas.create_image(0, 0, anchor=tk.NW, image=background_photo)\n",
    "\n",
    "button_font = (\"Helvetica\", 15)    \n",
    "button = tk.Button(admin_window, text=\"Open\", bg='black',fg=\"white\", font=button_font)\n",
    "button.place(x=130, y=450)\n",
    "\n",
    "button_font = (\"Helvetica\", 15)    \n",
    "button = tk.Button(admin_window, text=\"Open\", bg='black',fg=\"white\", font=button_font)\n",
    "button.place(x=450, y=450)\n",
    "\n",
    "button_font = (\"Helvetica\", 15)    \n",
    "button = tk.Button(admin_window, text=\"Open\", bg='black',fg=\"white\", font=button_font)\n",
    "button.place(x=780, y=450)\n",
    "\n",
    "admin_window.mainloop()"
   ]
  },
  {
   "cell_type": "markdown",
   "id": "75c32541",
   "metadata": {},
   "source": [
    "# doctor page"
   ]
  },
  {
   "cell_type": "code",
   "execution_count": 1,
   "id": "92a00957",
   "metadata": {},
   "outputs": [],
   "source": [
    "import tkinter as tk\n",
    "from PIL import Image, ImageTk \n",
    "\n",
    "doctor_window = tk.Tk()\n",
    "doctor_window.title(\"admin window\")\n",
    "\n",
    "background_image = Image.open(r\"C:\\Users\\Shady Emad\\Desktop\\Hackathon\\doctor.png\")  # Replace with your image file\n",
    "background_photo = ImageTk.PhotoImage(background_image)\n",
    "\n",
    "canvas = tk.Canvas(doctor_window, width=background_image.width, height=background_image.height)\n",
    "canvas.pack()\n",
    "canvas.create_image(0, 0, anchor=tk.NW, image=background_photo)\n",
    "\n",
    "button_font = (\"Helvetica\", 15)    \n",
    "button1 = tk.Button(doctor_window, text=\"Open\", bg='black',fg=\"white\", font=button_font)\n",
    "button1.place(x=130, y=450)\n",
    "\n",
    "button_font = (\"Helvetica\", 15)    \n",
    "button2 = tk.Button(doctor_window, text=\"Open\", bg='black',fg=\"white\", font=button_font)\n",
    "button2.place(x=130, y=450)\n",
    "\n",
    "button_font = (\"Helvetica\", 15)    \n",
    "button3 = tk.Button(doctor_window, text=\"Open\", bg='black',fg=\"white\", font=button_font)\n",
    "button3.place(x=130, y=450)\n",
    "\n",
    "doctor_window.mainloop()"
   ]
  },
  {
   "cell_type": "code",
   "execution_count": null,
   "id": "50522f59",
   "metadata": {},
   "outputs": [],
   "source": []
  }
 ],
 "metadata": {
  "kernelspec": {
   "display_name": "Python 3 (ipykernel)",
   "language": "python",
   "name": "python3"
  },
  "language_info": {
   "codemirror_mode": {
    "name": "ipython",
    "version": 3
   },
   "file_extension": ".py",
   "mimetype": "text/x-python",
   "name": "python",
   "nbconvert_exporter": "python",
   "pygments_lexer": "ipython3",
   "version": "3.9.7"
  }
 },
 "nbformat": 4,
 "nbformat_minor": 5
}
